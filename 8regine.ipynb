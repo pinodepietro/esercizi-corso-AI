{
  "nbformat": 4,
  "nbformat_minor": 0,
  "metadata": {
    "colab": {
      "provenance": [],
      "authorship_tag": "ABX9TyOExdIMtf7cUSQ8NvkP2MVe",
      "include_colab_link": true
    },
    "kernelspec": {
      "name": "python3",
      "display_name": "Python 3"
    },
    "language_info": {
      "name": "python"
    }
  },
  "cells": [
    {
      "cell_type": "markdown",
      "metadata": {
        "id": "view-in-github",
        "colab_type": "text"
      },
      "source": [
        "<a href=\"https://colab.research.google.com/github/pinodepietro/esercizi-corso-AI/blob/main/8regine.ipynb\" target=\"_parent\"><img src=\"https://colab.research.google.com/assets/colab-badge.svg\" alt=\"Open In Colab\"/></a>"
      ]
    },
    {
      "cell_type": "code",
      "execution_count": null,
      "metadata": {
        "id": "FG7ANKZ_E5ur"
      },
      "outputs": [],
      "source": [
        "!git clone https://github.com/pinodepietro/esercizi-corso-AI.git\n",
        "%cd esercizi-corso-AI"
      ]
    },
    {
      "cell_type": "code",
      "source": [
        "!pip install -r requirements.txt"
      ],
      "metadata": {
        "id": "H0WcfDncFBtG"
      },
      "execution_count": null,
      "outputs": []
    },
    {
      "cell_type": "code",
      "source": [
        "%run 8Regine_hill.py"
      ],
      "metadata": {
        "id": "S71RRzYFFKwH"
      },
      "execution_count": null,
      "outputs": []
    }
  ]
}