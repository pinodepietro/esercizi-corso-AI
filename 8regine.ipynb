{
  "nbformat": 4,
  "nbformat_minor": 0,
  "metadata": {
    "colab": {
      "provenance": [],
      "authorship_tag": "ABX9TyPTWHJYvWatDE6MDd3LLMGE",
      "include_colab_link": true
    },
    "kernelspec": {
      "name": "python3",
      "display_name": "Python 3"
    },
    "language_info": {
      "name": "python"
    }
  },
  "cells": [
    {
      "cell_type": "markdown",
      "metadata": {
        "id": "view-in-github",
        "colab_type": "text"
      },
      "source": [
        "<a href=\"https://colab.research.google.com/github/pinodepietro/esercizi-corso-AI/blob/main/8regine.ipynb\" target=\"_parent\"><img src=\"https://colab.research.google.com/assets/colab-badge.svg\" alt=\"Open In Colab\"/></a>"
      ]
    },
    {
      "cell_type": "code",
      "source": [
        "!rm -rf esercizi-corso-AI\n",
        "!git clone https://github.com/pinodepietro/esercizi-corso-AI.git\n",
        "%cd esercizi-corso-AI\n"
      ],
      "metadata": {
        "id": "HSWspucJO3zg"
      },
      "execution_count": null,
      "outputs": []
    },
    {
      "cell_type": "code",
      "source": [
        "!pip install -r requirements.txt\n",
        "from google.colab import output\n",
        "output.enable_custom_widget_manager()\n"
      ],
      "metadata": {
        "id": "mBOxeoodO7IZ"
      },
      "execution_count": null,
      "outputs": []
    },
    {
      "cell_type": "code",
      "source": [
        "%run 8Regine_hill.py"
      ],
      "metadata": {
        "id": "zttcKqKLO8sk"
      },
      "execution_count": null,
      "outputs": []
    }
  ]
}