{
  "nbformat": 4,
  "nbformat_minor": 0,
  "metadata": {
    "colab": {
      "provenance": [],
      "authorship_tag": "ABX9TyMMN3zdMLX5/bkXFndnZs9n",
      "include_colab_link": true
    },
    "kernelspec": {
      "name": "python3",
      "display_name": "Python 3"
    },
    "language_info": {
      "name": "python"
    }
  },
  "cells": [
    {
      "cell_type": "markdown",
      "metadata": {
        "id": "view-in-github",
        "colab_type": "text"
      },
      "source": [
        "<a href=\"https://colab.research.google.com/github/pinodepietro/esercizi-corso-AI/blob/main/8regine.ipynb\" target=\"_parent\"><img src=\"https://colab.research.google.com/assets/colab-badge.svg\" alt=\"Open In Colab\"/></a>"
      ]
    },
    {
      "cell_type": "code",
      "source": [
        "from google.colab import output\n",
        "output.enable_custom_widget_manager()"
      ],
      "metadata": {
        "id": "JOauMYn8Lssd"
      },
      "execution_count": null,
      "outputs": []
    },
    {
      "cell_type": "markdown",
      "source": [
        "Support for third party widgets will remain active for the duration of the session. To disable support:"
      ],
      "metadata": {
        "id": "8cy7tyQQLssf"
      }
    },
    {
      "cell_type": "code",
      "source": [
        "!git clone https://github.com/pinodepietro/esercizi-corso-AI.git\n",
        "%cd esercizi-corso-AI\n",
        "!pip install -r requirements.txt\n",
        "%run 8Regine_hill.py"
      ],
      "metadata": {
        "id": "FS-6qAGjN751"
      },
      "execution_count": null,
      "outputs": []
    }
  ]
}